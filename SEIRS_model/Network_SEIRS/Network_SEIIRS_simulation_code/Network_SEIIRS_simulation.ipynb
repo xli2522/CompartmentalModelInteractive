{
 "cells": [
  {
   "cell_type": "markdown",
   "metadata": {},
   "source": [
    "Spatial SEIRS Model Simulation with Automated Network Information Processing \n",
    "by Xiyuan Li\n",
    "\n",
    "Western University\n",
    "London, Ontario\n",
    "July 21st, 2020\n",
    "\n",
    "Virsion beta 1.0.1 Under Testing\n"
   ]
  },
  {
   "cell_type": "code",
   "execution_count": null,
   "metadata": {},
   "outputs": [],
   "source": [
    "import os\n",
    "import sys\n",
    "import matplotlib.pyplot as plt\n",
    "import numpy as np\n",
    "import pandas as pd\n",
    "from scipy.integrate import odeint\n",
    "import plotly.graph_objects as go\n",
    "import plotly.io as pio\n",
    "pio.renderers.default = \"notebook\"\n",
    "%matplotlib inline\n",
    "plt.style.use('ggplot')"
   ]
  },
  {
   "cell_type": "code",
   "execution_count": null,
   "metadata": {},
   "outputs": [],
   "source": [
    "from IPython.display import HTML\n",
    "from ipywidgets.widgets import interact, IntSlider, FloatSlider, Layout\n",
    "style = {'description_width': '100px'}\n",
    "slider_layout = Layout(width='99%')"
   ]
  },
  {
   "cell_type": "code",
   "execution_count": null,
   "metadata": {},
   "outputs": [],
   "source": [
    "class objectClass(object):\n",
    "    def __init__(self, number):\n",
    "        self.number = number\n",
    "\n",
    "tau = np.identity(5) \n",
    "row = len(tau)\n",
    "tau=np.rot90(np.fliplr(tau))\n",
    "\n",
    "x=[]\n",
    "y=[]\n",
    "num = 11*row\n",
    "\n",
    "for i in range(11*row): #elements and first derivatives\n",
    "    x.append(objectClass(i).number)\n",
    "for i in range(row*row): #sudo_matrix\n",
    "    y.append(objectClass(i).number)"
   ]
  },
  {
   "cell_type": "code",
   "execution_count": null,
   "metadata": {},
   "outputs": [],
   "source": [
    "j = 0\n",
    "sudo_matrix=[]\n",
    "while j < row:\n",
    "    i = 0 #0\n",
    "    while i < row:\n",
    "        sudo_matrix.append(tau[j,i])\n",
    "        i+=1 #1\n",
    "    j+=1 #1\n",
    "y = sudo_matrix"
   ]
  },
  {
   "cell_type": "code",
   "execution_count": null,
   "metadata": {},
   "outputs": [],
   "source": [
    "#Initial Value Assignement\n",
    "beta = 1.12\n",
    "roe = 0.5\n",
    "kappa = 0.27\n",
    "gamma = 0.29\n",
    "alpha=0.1\n",
    "delta = 0.04\n",
    "days = 200\n",
    "init = (292970, 10, 10, 10, 0, 29297, 1, 1, 1, 0, 29297, 1, 1, 1, 0,500000, 1, 1, 1, 0,29297, 1, 1, 1, 0)\n",
    "initial = (292970, 10, 10, 10, 0, 29297, 1, 1, 1, 0, 29297, 1, 1, 1, 0,500000, 1, 1, 1, 0,29297, 1, 1, 1, 0, 293000,29300,29300,500003,29300)\n",
    "params = beta, kappa, roe, gamma, delta\n",
    "ODEmodelInitial = init"
   ]
  },
  {
   "cell_type": "code",
   "execution_count": null,
   "metadata": {},
   "outputs": [],
   "source": [
    "def sum_organizer(sudo_matrix):\n",
    "    \n",
    "    g = []\n",
    "    for i in range(row*3):\n",
    "        g.append(objectClass(i).number)\n",
    "    m_count = 0\n",
    "    for n in range(row):\n",
    "        count = row #3\n",
    "        while count >0:\n",
    "            count-=1 #2\n",
    "            g[m_count*3+0] = g[m_count*3+0] + x[5*count+2]*y[count+m_count*row]\n",
    "            g[m_count*3+1] = g[m_count*3+1] + x[5*count+3]*y[count+m_count*row]\n",
    "            g[m_count*3+2] = g[m_count*3+2] + x[5*row+count]*y[count+m_count*row]\n",
    "        m_count+=1\n",
    "        \n",
    "    return g"
   ]
  },
  {
   "cell_type": "code",
   "execution_count": null,
   "metadata": {},
   "outputs": [],
   "source": [
    "def get_tau_self(count):\n",
    "\n",
    "    f = []\n",
    "    for i in range(row):\n",
    "        f.append(y[int(count)+i*row])\n",
    "        \n",
    "    return f"
   ]
  },
  {
   "cell_type": "code",
   "execution_count": null,
   "metadata": {},
   "outputs": [],
   "source": [
    "def ode_model(z, t, beta, kappa, roe, gamma, delta):\n",
    "    \n",
    "    number = 0\n",
    "    while number < 5*row:\n",
    "        x[number] = float(z[number])\n",
    "        number+=1\n",
    "    count = 0\n",
    "    iteration = 0\n",
    "    while count < num:\n",
    "        f=get_tau_self(iteration)\n",
    "        g=sum_organizer(y)\n",
    "        #reference: N1 = S1 + E1 + Ic1 + Isc1 + R1\n",
    "        x[iteration+row*5] = x[iteration*5] + x[iteration*5+1] + x[iteration*5+2] + x[iteration*5+3] + x[iteration*5+4]\n",
    "        n2 = 0\n",
    "        sum = 0\n",
    "        while n2 < row:\n",
    "            sum = sum + f[n2]*(g[n2*3]+alpha*g[n2*3+1])/g[n2*3+2]\n",
    "            n2+=1\n",
    "        x[row*6-1+iteration*5+1] = -beta*x[iteration*5]*((sum)) + delta*x[iteration*5+4]\n",
    "        x[row*6-1+iteration*5+2] = beta*x[iteration*5]*((sum))- kappa*x[iteration*5+1]\n",
    "        x[row*6-1+iteration*5+3] = roe*kappa*x[iteration*5+1] - gamma*x[iteration*5+2]\n",
    "        x[row*6-1+iteration*5+4] = (1-roe)*kappa*x[iteration*5+1] - gamma*x[iteration*5+3]\n",
    "        x[row*6-1+iteration*5+5] = gamma*(x[iteration*5+2] + x[iteration*5+3]) - delta*x[iteration*5+4]\n",
    "        count+=11\n",
    "        iteration+=1\n",
    "        \n",
    "    number2 = 0\n",
    "    output = ()\n",
    "    while number2 < row:\n",
    "        i = 0\n",
    "        while i < 5:\n",
    "            i+=1\n",
    "            output = output + (x[row*6-1+5*number2+i],)\n",
    "        number2+=1\n",
    "   \n",
    "    return output"
   ]
  },
  {
   "cell_type": "code",
   "execution_count": null,
   "metadata": {},
   "outputs": [],
   "source": [
    "def ode_solver(t, ODEmodelInitial, params):\n",
    "    res = odeint(ode_model, ODEmodelInitial, t, args=(params))\n",
    "    return res"
   ]
  },
  {
   "cell_type": "code",
   "execution_count": null,
   "metadata": {},
   "outputs": [],
   "source": [
    "def main(ODEmodelInitial, params, days):\n",
    "    \n",
    "    tspan = np.arange(0, days, 1)\n",
    "    sol = ode_solver(tspan, ODEmodelInitial, params)\n",
    "    number = 0\n",
    "    while number < 5*row:\n",
    "        x[number] = sol[:,number]\n",
    "        number+=1   \n",
    "\n",
    "    graphics=0\n",
    "    s=0\n",
    "    e=0\n",
    "    ic=0\n",
    "    isc=0\n",
    "    r=0\n",
    "    while graphics < row:\n",
    "    \n",
    "        fig1 = go.Figure()\n",
    "        fig1.add_trace(go.Scatter(x=tspan, y=x[5*graphics+0], mode='lines+markers', name='Susceptible ' + str(graphics+1)))\n",
    "        fig1.add_trace(go.Scatter(x=tspan, y=x[5*graphics+1], mode='lines+markers', name='Exposed '+ str(graphics+1)))\n",
    "        fig1.add_trace(go.Scatter(x=tspan, y=x[5*graphics+2], mode='lines+markers', name='Clinical '+ str(graphics+1)))\n",
    "        fig1.add_trace(go.Scatter(x=tspan, y=x[5*graphics+3], mode='lines+markers', name='Subclinical '+ str(graphics+1)))\n",
    "        fig1.add_trace(go.Scatter(x=tspan, y=x[5*graphics+4], mode='lines+markers',name='Removed '+ str(graphics+1)))\n",
    "        s=s+x[5*graphics+0]\n",
    "        e=e+x[5*graphics+1]\n",
    "        ic=ic+x[5*graphics+2]\n",
    "        isc=isc+x[5*graphics+3]\n",
    "        r=r+x[5*graphics+4]\n",
    "        \n",
    "        if days <= 30:\n",
    "            step = 1\n",
    "        elif days <= 90:\n",
    "            step = 7\n",
    "        else:\n",
    "            step = 30\n",
    "            \n",
    "        fig1.update_layout(title='SEIIRS Community ' + str(graphics+1),\n",
    "                       xaxis_title='Day',\n",
    "                       yaxis_title='Counts',\n",
    "                       title_x=0.5,\n",
    "                      width=900, height=600,\n",
    "                     )\n",
    "    \n",
    "        fig1.update_xaxes(tickangle=-90, tickformat = None, tickmode='array', tickvals=np.arange(0, days + 1, step))\n",
    "    \n",
    "    \n",
    "        \n",
    "        fig1.show()\n",
    "        graphics+=1\n",
    "        \n",
    "    fig2 = go.Figure()\n",
    "    fig2.add_trace(go.Scatter(x=tspan, y=s, mode='lines+markers', name='Susceptible ' ))\n",
    "    fig2.add_trace(go.Scatter(x=tspan, y=e, mode='lines+markers', name='Exposed '))\n",
    "    fig2.add_trace(go.Scatter(x=tspan, y=ic, mode='lines+markers', name='Clinical '))\n",
    "    fig2.add_trace(go.Scatter(x=tspan, y=isc, mode='lines+markers', name='Subclinical '))\n",
    "    fig2.add_trace(go.Scatter(x=tspan, y=r, mode='lines+markers',name='Removed '))\n",
    "    \n",
    "    if days <= 30:\n",
    "        step = 1\n",
    "    elif days <= 90:\n",
    "        step = 7\n",
    "    else:\n",
    "        step = 30\n",
    "        \n",
    "    fig2.update_layout(title='SEIIRS Community Combined',\n",
    "                       xaxis_title='Day',\n",
    "                       yaxis_title='Counts',\n",
    "                       title_x=0.5,\n",
    "                      width=900, height=600,\n",
    "                     )\n",
    "    \n",
    "    fig2.update_xaxes(tickangle=-90, tickformat = None, tickmode='array', tickvals=np.arange(0, days + 1, step))\n",
    "    fig2.show()"
   ]
  },
  {
   "cell_type": "code",
   "execution_count": null,
   "metadata": {
    "scrolled": false
   },
   "outputs": [],
   "source": [
    "main(ODEmodelInitial, params, days)"
   ]
  },
  {
   "cell_type": "code",
   "execution_count": null,
   "metadata": {},
   "outputs": [],
   "source": []
  },
  {
   "cell_type": "code",
   "execution_count": null,
   "metadata": {},
   "outputs": [],
   "source": []
  }
 ],
 "metadata": {
  "kernelspec": {
   "display_name": "Python 3",
   "language": "python",
   "name": "python3"
  },
  "language_info": {
   "codemirror_mode": {
    "name": "ipython",
    "version": 3
   },
   "file_extension": ".py",
   "mimetype": "text/x-python",
   "name": "python",
   "nbconvert_exporter": "python",
   "pygments_lexer": "ipython3",
   "version": "3.7.6"
  }
 },
 "nbformat": 4,
 "nbformat_minor": 4
}

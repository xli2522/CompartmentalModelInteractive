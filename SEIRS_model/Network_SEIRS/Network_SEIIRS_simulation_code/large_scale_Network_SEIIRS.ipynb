{
 "cells": [
  {
   "cell_type": "markdown",
   "metadata": {},
   "source": [
    "Large Scale Spatial SEIRS Model Simulation with Automated Network Information Processing \n",
    "by Xiyuan Li\n",
    "\n",
    "Western University\n",
    "London, Ontario \n",
    "July 23nd, 2020\n",
    "\n",
    "Virsion beta 1.0.2 Under Testing"
   ]
  },
  {
   "cell_type": "code",
   "execution_count": null,
   "metadata": {},
   "outputs": [],
   "source": [
    "import os\n",
    "import sys\n",
    "import numpy as np\n",
    "import pandas as pd\n",
    "from scipy.integrate import odeint\n",
    "import csv"
   ]
  },
  {
   "cell_type": "code",
   "execution_count": null,
   "metadata": {},
   "outputs": [],
   "source": [
    "n=[]\n",
    "c=[]\n",
    "p=[]\n",
    "m = []\n",
    "itemp=[]"
   ]
  },
  {
   "cell_type": "code",
   "execution_count": null,
   "metadata": {},
   "outputs": [],
   "source": [
    "def load_matrix(file):\n",
    "    count = 0\n",
    "    with open(file, newline='') as csvfile:\n",
    "        csvreader = csv.reader(csvfile, delimiter=',', quotechar=' ')\n",
    "        for row in csvreader:\n",
    "            if count == 0:\n",
    "                header=row\n",
    "            else:\n",
    "                n.append(row[0])\n",
    "                c.append(row[1])\n",
    "                p.append(row[2])\n",
    "                m.append(row[3:])\n",
    "                itemp.append(int(row[2])-3)\n",
    "                for number in range(3):\n",
    "                    itemp.append(1)\n",
    "                itemp.append(0)\n",
    "                \n",
    "            count +=1\n",
    "    init = np.asarray(itemp)\n",
    "    for number in range(count-1):\n",
    "        itemp.append(int(p[number])+3)\n",
    "    name = n\n",
    "    population =np.asarray(p)\n",
    "    coordinates = np.asarray(c)\n",
    "    matrix = np.asarray(m)\n",
    "    initial = np.asarray(itemp)\n",
    "    return matrix, init, initial, name\n",
    "    "
   ]
  },
  {
   "cell_type": "code",
   "execution_count": null,
   "metadata": {},
   "outputs": [],
   "source": [
    "class objectClass(object):\n",
    "    def __init__(self, number):\n",
    "        self.number = number\n",
    "\n",
    "\n",
    "tau, init, initial, name = load_matrix('large_scale_input_testing20.csv')\n",
    "row = len(tau)\n",
    "tau=np.rot90(np.fliplr(tau))\n",
    "x=[]\n",
    "y=[]\n",
    "num = 11*row\n",
    "\n",
    "for i in range(11*row): #elements and first derivatives\n",
    "    x.append(objectClass(i).number)\n",
    "for i in range(row*row): #sudo_matrix\n",
    "    y.append(objectClass(i).number)"
   ]
  },
  {
   "cell_type": "code",
   "execution_count": null,
   "metadata": {},
   "outputs": [],
   "source": [
    "j = 0\n",
    "sudo_matrix=[]\n",
    "while j < row:\n",
    "    i = 0 #0\n",
    "    while i < row:\n",
    "        sudo_matrix.append(tau[j,i])\n",
    "        i+=1 #1\n",
    "    j+=1 #1\n",
    "y = sudo_matrix"
   ]
  },
  {
   "cell_type": "code",
   "execution_count": null,
   "metadata": {},
   "outputs": [],
   "source": [
    "#Initial Value Assignement\n",
    "beta = 1.12\n",
    "roe = 0.5\n",
    "kappa = 0.27\n",
    "gamma = 0.29\n",
    "alpha=0.1\n",
    "delta = 0.04\n",
    "days = 200\n",
    "params = beta, kappa, roe, gamma, delta\n",
    "ODEmodelInitial = init"
   ]
  },
  {
   "cell_type": "code",
   "execution_count": null,
   "metadata": {},
   "outputs": [],
   "source": [
    "def write_solution(file, count, S, E, Ic, Isc, R):\n",
    "    number = 0\n",
    "    with open(file,'w', newline='') as csvfile:\n",
    "        \n",
    "        csvwriter = csv.writer(csvfile, delimiter=',', quotechar=' ', quoting=csv.QUOTE_MINIMAL)\n",
    "        for i in range(row):\n",
    "            #while number < days:\n",
    "            csvwriter.writerow([name[i], *S[i]])\n",
    "            number+=1\n",
    "    \n",
    "    return "
   ]
  },
  {
   "cell_type": "code",
   "execution_count": null,
   "metadata": {},
   "outputs": [],
   "source": [
    "def sum_organizer(sudo_matrix):\n",
    "    g = []\n",
    "    for i in range(row*3):\n",
    "        g.append(objectClass(i).number)\n",
    "    m_count = 0\n",
    "    \n",
    "    while m_count < row:\n",
    "        count = int(row) #3\n",
    "        while count >0:\n",
    "            count-=1 #2\n",
    "            g[m_count*3+0] = g[m_count*3+0] + x[5*count+2]*float(y[count+m_count*row])\n",
    "            g[m_count*3+1] = g[m_count*3+1] + x[5*count+3]*float(y[count+m_count*row])\n",
    "            g[m_count*3+2] = g[m_count*3+2] + x[5*row+count]*float(y[count+m_count*row])\n",
    "        m_count+=1\n",
    "        \n",
    "    return g"
   ]
  },
  {
   "cell_type": "code",
   "execution_count": null,
   "metadata": {},
   "outputs": [],
   "source": [
    "def get_tau_self(count):\n",
    "    f=[]\n",
    "    \n",
    "    for i in range(row):\n",
    "        f.append(y[int(count)+i*row])\n",
    "    \n",
    "    return f"
   ]
  },
  {
   "cell_type": "code",
   "execution_count": null,
   "metadata": {},
   "outputs": [],
   "source": [
    "def ode_model(z, t, beta, kappa, roe, gamma, delta):\n",
    "    \n",
    "    number = 0\n",
    "    while number < 5*row:\n",
    "        x[number] = float(z[number])\n",
    "        number+=1\n",
    "    count = 0\n",
    "    iteration = 0\n",
    "    while count < num:\n",
    "        f = get_tau_self(iteration)\n",
    "        g = sum_organizer(y)\n",
    "        #reference: N = S + E + Ic + Isc + R\n",
    "        x[iteration+row*5] = x[iteration*5] + x[iteration*5+1] + x[iteration*5+2] + x[iteration*5+3] + x[iteration*5+4]\n",
    "        n2 = 0\n",
    "        sum = 0\n",
    "        while n2 < row:\n",
    "            sum = sum + float(f[n2])*(float(g[n2*3])+alpha*float(g[n2*3+1]))/float(g[n2*3+2])\n",
    "            n2+=1\n",
    "        x[row*6-1+iteration*5+1] = -beta*x[iteration*5]*((sum)) + delta*x[iteration*5+4]\n",
    "        x[row*6-1+iteration*5+2] = beta*x[iteration*5]*((sum))- kappa*x[iteration*5+1]\n",
    "        x[row*6-1+iteration*5+3] = roe*kappa*x[iteration*5+1] - gamma*x[iteration*5+2]\n",
    "        x[row*6-1+iteration*5+4] = (1-roe)*kappa*x[iteration*5+1] - gamma*x[iteration*5+3]\n",
    "        x[row*6-1+iteration*5+5] = gamma*(x[iteration*5+2] + x[iteration*5+3]) - delta*x[iteration*5+4]\n",
    "        count+=11\n",
    "        iteration+=1\n",
    "    number2 = 0\n",
    "    output = ()\n",
    "    while number2 < row:\n",
    "        i = 0\n",
    "        while i < 5:\n",
    "            i+=1\n",
    "            output = output + (x[row*6-1+5*number2+i],)\n",
    "        number2+=1\n",
    "   \n",
    "    return output"
   ]
  },
  {
   "cell_type": "code",
   "execution_count": null,
   "metadata": {},
   "outputs": [],
   "source": [
    "def ode_solver(t, ODEmodelInitial, params):\n",
    "    res = odeint(ode_model, ODEmodelInitial, t, args=(params))\n",
    "    return res"
   ]
  },
  {
   "cell_type": "code",
   "execution_count": null,
   "metadata": {},
   "outputs": [],
   "source": [
    "def main(ODEmodelInitial, params, days):\n",
    "    \n",
    "    tspan = np.arange(0, days, 1)\n",
    "    sol = ode_solver(tspan, ODEmodelInitial, params)\n",
    "    number = 0\n",
    "    print(len(sol))\n",
    "    print(len(sol[0]))\n",
    "    print(len(sol[0]))\n",
    "    print(sol[0])\n",
    "    while number < 5*row:\n",
    "        x[number] = sol[:,number]\n",
    "        number+=1   \n",
    "    \n",
    "    base=0\n",
    "    s=0\n",
    "    e=0\n",
    "    ic=0\n",
    "    isc=0\n",
    "    r=0\n",
    "    ts = []\n",
    "    te = []\n",
    "    tic = []\n",
    "    tisc= []\n",
    "    tr = []\n",
    "    while base < row: #20 rows\n",
    "    \n",
    "        ts.append(x[5*base+0].tolist())\n",
    "        te.append(x[5*base+1].tolist())\n",
    "        tic.append(x[5*base+2].tolist())\n",
    "        tisc.append(x[5*base+3].tolist())\n",
    "        tr.append(x[5*base+4].tolist())\n",
    "        \n",
    "        \n",
    "        \n",
    "        s=s+x[5*base+0] #final community combined\n",
    "        e=e+x[5*base+1]\n",
    "        ic=ic+x[5*base+2]\n",
    "        isc=isc+x[5*base+3]\n",
    "        r=r+x[5*base+4]\n",
    "        \n",
    "        base+=1\n",
    "        \n",
    "    write_solution('network_SEIIRS_simulation_result.csv', base, ts, te, tic, tisc, tr)"
   ]
  },
  {
   "cell_type": "code",
   "execution_count": null,
   "metadata": {
    "scrolled": false
   },
   "outputs": [],
   "source": [
    "main(ODEmodelInitial, params, days)"
   ]
  },
  {
   "cell_type": "code",
   "execution_count": null,
   "metadata": {},
   "outputs": [],
   "source": []
  },
  {
   "cell_type": "code",
   "execution_count": null,
   "metadata": {},
   "outputs": [],
   "source": []
  }
 ],
 "metadata": {
  "kernelspec": {
   "display_name": "Python 3",
   "language": "python",
   "name": "python3"
  },
  "language_info": {
   "codemirror_mode": {
    "name": "ipython",
    "version": 3
   },
   "file_extension": ".py",
   "mimetype": "text/x-python",
   "name": "python",
   "nbconvert_exporter": "python",
   "pygments_lexer": "ipython3",
   "version": "3.7.6"
  }
 },
 "nbformat": 4,
 "nbformat_minor": 4
}

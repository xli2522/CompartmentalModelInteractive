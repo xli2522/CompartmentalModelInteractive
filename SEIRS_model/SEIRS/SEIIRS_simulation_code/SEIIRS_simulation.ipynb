{
 "cells": [
  {
   "cell_type": "code",
   "execution_count": null,
   "metadata": {},
   "outputs": [],
   "source": [
    "import os\n",
    "import sys\n",
    "import matplotlib.pyplot as plt\n",
    "import numpy as np\n",
    "import pandas as pd\n",
    "from scipy.integrate import odeint\n",
    "import plotly.graph_objects as go\n",
    "import plotly.io as pio\n",
    "pio.renderers.default = \"notebook\"\n",
    "%matplotlib inline\n",
    "plt.style.use('ggplot')"
   ]
  },
  {
   "cell_type": "code",
   "execution_count": null,
   "metadata": {},
   "outputs": [],
   "source": [
    "from IPython.display import HTML\n",
    "from ipywidgets.widgets import interact, IntSlider, FloatSlider, Layout\n",
    "style = {'description_width': '100px'}\n",
    "slider_layout = Layout(width='99%')"
   ]
  },
  {
   "cell_type": "code",
   "execution_count": null,
   "metadata": {},
   "outputs": [],
   "source": [
    "#NOTE: those initial conditions do not represent any physical meaning\n",
    "initN = 2930000\n",
    "initS = 2920097\n",
    "initE = 1\n",
    "initIc = 1\n",
    "initIsc = 1\n",
    "initR = 0\n",
    "beta = 1.52\n",
    "delta = 0.04\n",
    "kappa = 0.7\n",
    "gamma = 0.62\n",
    "roe = 0.7\n",
    "alpha = 0.4\n",
    "days = 200\n",
    "initial_conditions = (initE, initIc, initIsc, initR, initN)\n",
    "params = beta, alpha, roe, kappa, gamma, delta  "
   ]
  },
  {
   "cell_type": "code",
   "execution_count": null,
   "metadata": {},
   "outputs": [],
   "source": [
    "def ode_model(z, t, beta, alpha, roe, kappa, gamma, delta): \n",
    "    S, E, Ic, Isc, R= z\n",
    "    N = S + E + Ic + Isc + R \n",
    "    \n",
    "    dSdt = -beta*S*(Ic+alpha*Isc)/N  + delta*R\n",
    "    dEdt = beta*S*(Ic+alpha*Isc)/N - kappa*E\n",
    "    dIcdt = roe*kappa*E - gamma*Ic\n",
    "    dIscdt = (1-roe)*kappa*E - gamma*Isc\n",
    "    dRdt = gamma*(Ic+Isc) - delta*R\n",
    "    \n",
    "    return [dSdt, dEdt, dIcdt, dIscdt, dRdt] "
   ]
  },
  {
   "cell_type": "code",
   "execution_count": null,
   "metadata": {},
   "outputs": [],
   "source": [
    "def ode_solver(t, initial_conditions, params):\n",
    "    \n",
    "    res = odeint(ode_model, [initS, initE, initIc, initIsc, initR], t, args=(beta, alpha, roe, kappa, gamma, delta))\n",
    "    return res"
   ]
  },
  {
   "cell_type": "code",
   "execution_count": null,
   "metadata": {},
   "outputs": [],
   "source": [
    "def main(initE, initIc, initIsc, initR, initN, beta, alpha, roe, kappa, gamma, delta, days):\n",
    "    \n",
    "    tspan = np.arange(0, days, 1)\n",
    "    sol = ode_solver(tspan, initial_conditions, params)\n",
    "    S, E, Ic, Isc, R = sol[:, 0], sol[:, 1], sol[:, 2], sol[:, 3], sol[:, 4]\n",
    "    \n",
    "    # Create traces\n",
    "    fig = go.Figure()\n",
    "    fig.add_trace(go.Scatter(x=tspan, y=S, mode='lines+markers', name='Susceptible'))\n",
    "    fig.add_trace(go.Scatter(x=tspan, y=E, mode='lines+markers', name='Exposed'))\n",
    "    fig.add_trace(go.Scatter(x=tspan, y=Ic, mode='lines+markers', name='Infected'))\n",
    "    fig.add_trace(go.Scatter(x=tspan, y=Isc, mode='lines+markers', name='Sub Infected'))\n",
    "    fig.add_trace(go.Scatter(x=tspan, y=R, mode='lines+markers',name='Removed'))\n",
    "    \n",
    "    if days <= 30:\n",
    "        step = 1\n",
    "    elif days <= 90:\n",
    "        step = 7\n",
    "    else:\n",
    "        step = 30\n",
    "    \n",
    "    fig.update_layout(title='Simulation of SEIIRS Model',\n",
    "                       xaxis_title='Day',\n",
    "                       yaxis_title='Counts',\n",
    "                       title_x=0.5,\n",
    "                      width=900, height=600,\n",
    "                     )\n",
    "    \n",
    "    fig.update_xaxes(tickangle=-90, tickformat = None, tickmode='array', tickvals=np.arange(0, days + 1, step))\n",
    "    fig.show()"
   ]
  },
  {
   "cell_type": "code",
   "execution_count": null,
   "metadata": {
    "scrolled": false
   },
   "outputs": [],
   "source": [
    "interact(main, \n",
    "         initS=IntSlider(min=0, max=100000, step=1, value=initS, description='initS', style=style, layout=slider_layout),\n",
    "         initE=IntSlider(min=0, max=100000, step=1, value=initE, description='initE', style=style, layout=slider_layout),\n",
    "         initIc=IntSlider(min=0, max=100000, step=10, value=initIc, description='initIc', style=style, layout=slider_layout),\n",
    "         initIsc=IntSlider(min=0, max=100000, step=10, value=initIsc, description='initIsc', style=style, layout=slider_layout),\n",
    "         initR=IntSlider(min=0, max=100000, step=10, value=initR, description='initR', style=style, layout=slider_layout),\n",
    "         initN=IntSlider(min=0, max=13800000, step=10, value=initN, description='initN', style=style, layout=slider_layout),\n",
    "         beta=FloatSlider(min=0, max=2, step=0.01, value=beta, description='Infection rate', style=style, layout=slider_layout),\n",
    "         kappa=FloatSlider(min=0, max=1, step=0.01, value=kappa, description='Exposure to Infection rate', style=style, layout=slider_layout), \n",
    "         gamma=FloatSlider(min=0, max=1, step=0.001, value=gamma, description='Removal Rate', style=style, layout=slider_layout),\n",
    "         delta=FloatSlider(min=0, max=1, step=0.01, value=delta, description='Sus Feedback', style=style, layout=slider_layout),\n",
    "         roe=FloatSlider(min=0, max=1, step=0.01, value=roe, description='% Clinical', style=style, layout=slider_layout),\n",
    "         alpha=FloatSlider(min=0, max=1, step=0.01, value=alpha, description='Reduced Infectivity Isc', style=style, layout=slider_layout),\n",
    "         days=IntSlider(min=1, max=600, step=7, value=days, description='Days', style=style, layout=slider_layout)\n",
    "        );"
   ]
  },
  {
   "cell_type": "code",
   "execution_count": null,
   "metadata": {},
   "outputs": [],
   "source": []
  },
  {
   "cell_type": "code",
   "execution_count": null,
   "metadata": {},
   "outputs": [],
   "source": []
  },
  {
   "cell_type": "code",
   "execution_count": null,
   "metadata": {},
   "outputs": [],
   "source": []
  }
 ],
 "metadata": {
  "kernelspec": {
   "display_name": "Python 3",
   "language": "python",
   "name": "python3"
  },
  "language_info": {
   "codemirror_mode": {
    "name": "ipython",
    "version": 3
   },
   "file_extension": ".py",
   "mimetype": "text/x-python",
   "name": "python",
   "nbconvert_exporter": "python",
   "pygments_lexer": "ipython3",
   "version": "3.7.6"
  }
 },
 "nbformat": 4,
 "nbformat_minor": 4
}

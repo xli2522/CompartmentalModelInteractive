{
 "cells": [
  {
   "cell_type": "code",
   "execution_count": null,
   "metadata": {},
   "outputs": [],
   "source": [
    "from __future__ import division\n",
    "import os\n",
    "import sys\n",
    "import glob\n",
    "import matplotlib.pyplot as plt\n",
    "import numpy as np\n",
    "import pandas as pd\n",
    "%matplotlib inline\n",
    "%precision 4\n",
    "plt.style.use('ggplot')\n",
    "\n",
    "from scipy.integrate import odeint"
   ]
  },
  {
   "cell_type": "code",
   "execution_count": null,
   "metadata": {},
   "outputs": [],
   "source": [
    "import plotly.graph_objects as go"
   ]
  },
  {
   "cell_type": "markdown",
   "metadata": {},
   "source": [
    "SEIRS Model"
   ]
  },
  {
   "cell_type": "code",
   "execution_count": null,
   "metadata": {},
   "outputs": [],
   "source": [
    "def seirs_model(xs, t, ps):\n",
    "    \n",
    "    try:\n",
    "        beta = ps['beta'].value\n",
    "        gamma = ps['gamma'].value  \n",
    "        kappa = ps['kappa'].value\n",
    "        delta = ps['delta'].value\n",
    "        \n",
    "    except:\n",
    "        beta, kappa, gamma, delta = ps\n",
    "    \n",
    "    S, E, I, R= xs\n",
    "    \n",
    "    N = S + E + I + R \n",
    "    \n",
    "    dSdt = -beta*S*I/N  + delta*R\n",
    "    dEdt = beta*S*I/N - kappa*E\n",
    "    dIdt = kappa*E - gamma*I\n",
    "    dRdt = gamma*I - delta*R\n",
    "    \n",
    "    \n",
    "    return [dSdt, dEdt, dIdt, dRdt]\n",
    "\n",
    "def g(t, x0, ps):  #Solve\n",
    "    x = odeint(seirs_model, x0, t, args=(ps,)) \n",
    "    return x\n",
    "\n",
    "\n",
    "t = np.linspace(0, 100, 100) \n",
    "x0 = np.array([1000, 1, 1, 0])  #initial conditions \n",
    " \n",
    "def test_model(beta, gamma, kappa, delta):\n",
    "    t = np.linspace(1,150,150)\n",
    "    s=[]\n",
    "    i=[]\n",
    "    r=[]\n",
    "\n",
    "    count = 1\n",
    "    multi = 1\n",
    "\n",
    "\n",
    "    while count <=6:\n",
    "    \n",
    "        beta= beta+(multi*0.1)\n",
    "        gamma= gamma+(multi*0.1)\n",
    "        kappa= kappa+(multi*0.1)\n",
    "        delta= delta+(multi*0.1)\n",
    "    \n",
    "        multi += 1\n",
    "        true_params = np.array((beta, gamma, kappa, delta))\n",
    "        data = g(t, x0, true_params)# Helix equation\n",
    "        s = np.append(s,data[:,0])\n",
    "        i = np.append(i,data[:,2])\n",
    "        r = np.append(r,data[:,3])\n",
    "        x, y, z = s, i, r\n",
    "        count = count + 1\n",
    "    \n",
    "    \n",
    "    \n",
    "        fig = go.Figure(data=[go.Scatter3d(x=x, y=y, z=z,\n",
    "                                       mode='markers')])\n",
    "\n",
    "    plt.plot(i, r, 'o')    \n",
    "    fig.show()\n",
    "    return\n",
    "\n"
   ]
  },
  {
   "cell_type": "markdown",
   "metadata": {},
   "source": [
    "SEIRS Draw Solution 3D + SI Period Orbit"
   ]
  },
  {
   "cell_type": "markdown",
   "metadata": {},
   "source": [
    "Small Delta Regime"
   ]
  },
  {
   "cell_type": "code",
   "execution_count": null,
   "metadata": {},
   "outputs": [],
   "source": [
    "test_model(1.5, 0.62, 0.7, 0.04)"
   ]
  },
  {
   "cell_type": "markdown",
   "metadata": {},
   "source": [
    "Large Delta Regime"
   ]
  },
  {
   "cell_type": "code",
   "execution_count": null,
   "metadata": {},
   "outputs": [],
   "source": [
    "test_model(1.5, 0.62,0.7, 1.3)"
   ]
  },
  {
   "cell_type": "code",
   "execution_count": null,
   "metadata": {},
   "outputs": [],
   "source": []
  }
 ],
 "metadata": {
  "kernelspec": {
   "display_name": "Python 3",
   "language": "python",
   "name": "python3"
  },
  "language_info": {
   "codemirror_mode": {
    "name": "ipython",
    "version": 3
   },
   "file_extension": ".py",
   "mimetype": "text/x-python",
   "name": "python",
   "nbconvert_exporter": "python",
   "pygments_lexer": "ipython3",
   "version": "3.7.6"
  }
 },
 "nbformat": 4,
 "nbformat_minor": 4
}
